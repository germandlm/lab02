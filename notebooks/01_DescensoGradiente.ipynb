{
 "cells": [
  {
   "cell_type": "markdown",
   "metadata": {},
   "source": [
    "# Regresión Logística y Descenso de Gradiente"
   ]
  },
  {
   "cell_type": "markdown",
   "metadata": {},
   "source": [
    "Germán de los Mozos Romero"
   ]
  },
  {
   "cell_type": "markdown",
   "metadata": {},
   "source": [
    "13/11/2020"
   ]
  },
  {
   "cell_type": "markdown",
   "metadata": {},
   "source": [
    "El objetivo de esta práctica es calcular el descenso de gradiente para optimizar dicha función. Todo el proceso se realizará con funciones básicas de Python. Para ello, contamos con una base de datos que contiene 100 observaciones con los resultados de dos pruebas y una tercera variable que indica el resultado de las pruebas: 1 para los aprobados y 0 para los suspensos."
   ]
  },
  {
   "cell_type": "markdown",
   "metadata": {},
   "source": [
    "### Librerías"
   ]
  },
  {
   "cell_type": "code",
   "execution_count": 80,
   "metadata": {},
   "outputs": [],
   "source": [
    "import numpy as np\n",
    "import matplotlib.pyplot as plt\n",
    "import seaborn as sns\n",
    "import pandas as pd\n",
    "plt.style.use(\"ggplot\")\n",
    "%matplotlib inline"
   ]
  },
  {
   "cell_type": "code",
   "execution_count": 81,
   "metadata": {},
   "outputs": [
    {
     "data": {
      "text/html": [
       "<div>\n",
       "<style scoped>\n",
       "    .dataframe tbody tr th:only-of-type {\n",
       "        vertical-align: middle;\n",
       "    }\n",
       "\n",
       "    .dataframe tbody tr th {\n",
       "        vertical-align: top;\n",
       "    }\n",
       "\n",
       "    .dataframe thead th {\n",
       "        text-align: right;\n",
       "    }\n",
       "</style>\n",
       "<table border=\"1\" class=\"dataframe\">\n",
       "  <thead>\n",
       "    <tr style=\"text-align: right;\">\n",
       "      <th></th>\n",
       "      <th>score-1</th>\n",
       "      <th>score-2</th>\n",
       "      <th>label</th>\n",
       "    </tr>\n",
       "  </thead>\n",
       "  <tbody>\n",
       "    <tr>\n",
       "      <th>0</th>\n",
       "      <td>34.623660</td>\n",
       "      <td>78.024693</td>\n",
       "      <td>0</td>\n",
       "    </tr>\n",
       "    <tr>\n",
       "      <th>1</th>\n",
       "      <td>30.286711</td>\n",
       "      <td>43.894998</td>\n",
       "      <td>0</td>\n",
       "    </tr>\n",
       "    <tr>\n",
       "      <th>2</th>\n",
       "      <td>35.847409</td>\n",
       "      <td>72.902198</td>\n",
       "      <td>0</td>\n",
       "    </tr>\n",
       "    <tr>\n",
       "      <th>3</th>\n",
       "      <td>60.182599</td>\n",
       "      <td>86.308552</td>\n",
       "      <td>1</td>\n",
       "    </tr>\n",
       "    <tr>\n",
       "      <th>4</th>\n",
       "      <td>79.032736</td>\n",
       "      <td>75.344376</td>\n",
       "      <td>1</td>\n",
       "    </tr>\n",
       "  </tbody>\n",
       "</table>\n",
       "</div>"
      ],
      "text/plain": [
       "     score-1    score-2  label\n",
       "0  34.623660  78.024693      0\n",
       "1  30.286711  43.894998      0\n",
       "2  35.847409  72.902198      0\n",
       "3  60.182599  86.308552      1\n",
       "4  79.032736  75.344376      1"
      ]
     },
     "execution_count": 81,
     "metadata": {},
     "output_type": "execute_result"
    }
   ],
   "source": [
    "data = pd.read_csv(\"../data/4_1_data.csv\")\n",
    "data.head()"
   ]
  },
  {
   "cell_type": "code",
   "execution_count": 82,
   "metadata": {},
   "outputs": [
    {
     "data": {
      "text/html": [
       "<div>\n",
       "<style scoped>\n",
       "    .dataframe tbody tr th:only-of-type {\n",
       "        vertical-align: middle;\n",
       "    }\n",
       "\n",
       "    .dataframe tbody tr th {\n",
       "        vertical-align: top;\n",
       "    }\n",
       "\n",
       "    .dataframe thead th {\n",
       "        text-align: right;\n",
       "    }\n",
       "</style>\n",
       "<table border=\"1\" class=\"dataframe\">\n",
       "  <thead>\n",
       "    <tr style=\"text-align: right;\">\n",
       "      <th></th>\n",
       "      <th>score-1</th>\n",
       "      <th>score-2</th>\n",
       "      <th>label</th>\n",
       "    </tr>\n",
       "  </thead>\n",
       "  <tbody>\n",
       "    <tr>\n",
       "      <th>95</th>\n",
       "      <td>83.489163</td>\n",
       "      <td>48.380286</td>\n",
       "      <td>1</td>\n",
       "    </tr>\n",
       "    <tr>\n",
       "      <th>96</th>\n",
       "      <td>42.261701</td>\n",
       "      <td>87.103851</td>\n",
       "      <td>1</td>\n",
       "    </tr>\n",
       "    <tr>\n",
       "      <th>97</th>\n",
       "      <td>99.315009</td>\n",
       "      <td>68.775409</td>\n",
       "      <td>1</td>\n",
       "    </tr>\n",
       "    <tr>\n",
       "      <th>98</th>\n",
       "      <td>55.340018</td>\n",
       "      <td>64.931938</td>\n",
       "      <td>1</td>\n",
       "    </tr>\n",
       "    <tr>\n",
       "      <th>99</th>\n",
       "      <td>74.775893</td>\n",
       "      <td>89.529813</td>\n",
       "      <td>1</td>\n",
       "    </tr>\n",
       "  </tbody>\n",
       "</table>\n",
       "</div>"
      ],
      "text/plain": [
       "      score-1    score-2  label\n",
       "95  83.489163  48.380286      1\n",
       "96  42.261701  87.103851      1\n",
       "97  99.315009  68.775409      1\n",
       "98  55.340018  64.931938      1\n",
       "99  74.775893  89.529813      1"
      ]
     },
     "execution_count": 82,
     "metadata": {},
     "output_type": "execute_result"
    }
   ],
   "source": [
    "data.tail()"
   ]
  },
  {
   "cell_type": "code",
   "execution_count": 83,
   "metadata": {},
   "outputs": [
    {
     "name": "stdout",
     "output_type": "stream",
     "text": [
      "<class 'pandas.core.frame.DataFrame'>\n",
      "RangeIndex: 100 entries, 0 to 99\n",
      "Data columns (total 3 columns):\n",
      "score-1    100 non-null float64\n",
      "score-2    100 non-null float64\n",
      "label      100 non-null int64\n",
      "dtypes: float64(2), int64(1)\n",
      "memory usage: 2.4 KB\n"
     ]
    }
   ],
   "source": [
    "data.info()"
   ]
  },
  {
   "cell_type": "markdown",
   "metadata": {},
   "source": [
    "### Visualización previa"
   ]
  },
  {
   "cell_type": "code",
   "execution_count": 84,
   "metadata": {},
   "outputs": [],
   "source": [
    "# Seleccionamos los valores de las columnas de score-1 y score-2 y generamos una lista llamada scoresT\n",
    "scoresT = data[['score-1', 'score-2']].values\n",
    "# Mismo procedimiento para la columna de label. En este caso lo asignamos a resultsT\n",
    "resultsT = data['label'].values"
   ]
  },
  {
   "cell_type": "code",
   "execution_count": 85,
   "metadata": {},
   "outputs": [
    {
     "data": {
      "image/png": "[encoded data removed]",
      "text/plain": [
       "<Figure size 432x288 with 1 Axes>"
      ]
     },
     "metadata": {
      "needs_background": "light"
     },
     "output_type": "display_data"
    }
   ],
   "source": [
    "aprobado = (resultsT == 1).reshape(100, 1)# Creamos aprobado cuando resultados es igual a 1, y la lista creada tendrá 100 filas y una columna\n",
    "suspenso = (resultsT == 0).reshape(100, 1)  # Mismo procedmiento para los suspensos\n",
    "\n",
    "# Hacemos dos scatterplot sobre ax\n",
    "\n",
    "ax = sns.scatterplot(x = scores[aprobado[:, 0], 0], # Aprobados test 1\n",
    "                     y = scores[aprobado[:, 0], 1], #Aprobados test 2\n",
    "                     marker = \"^\",\n",
    "                     color = \"yellow\",\n",
    "                     s = 60)\n",
    "sns.scatterplot(x = scores[suspenso[:, 0], 0], #Suspensos en test 1\n",
    "                y = scores[suspenso[:, 0], 1],# Suspensos en test 2\n",
    "                marker = \"X\",\n",
    "                color = \"purple\",\n",
    "                s = 60)\n",
    "\n",
    "ax.set(xlabel=\"Test 1 Puntuacion\", ylabel=\"Test 2 Puntuacion\") # Dar nombres a los ejes\n",
    "ax.legend([\"Aprobado\", \"Suspenso\"]) #Para poner la lyenda\n",
    "plt.show();"
   ]
  },
  {
   "cell_type": "markdown",
   "metadata": {},
   "source": [
    "### Definir funcion Sigmoide"
   ]
  },
  {
   "cell_type": "code",
   "execution_count": 86,
   "metadata": {},
   "outputs": [],
   "source": [
    "#Definimos la funcion que nos calcule lo siguiente:\n",
    "def funcionSigmoide(x):    \n",
    "    return 1/ (1 + np.exp(-x))"
   ]
  },
  {
   "cell_type": "markdown",
   "metadata": {},
   "source": [
    "σ(z)=11+e−z\n",
    "σ(z)=11+e−z"
   ]
  },
  {
   "cell_type": "code",
   "execution_count": 87,
   "metadata": {},
   "outputs": [
    {
     "data": {
      "text/plain": [
       "0.5"
      ]
     },
     "execution_count": 87,
     "metadata": {},
     "output_type": "execute_result"
    }
   ],
   "source": [
    "funcionSigmoide(0)"
   ]
  },
  {
   "cell_type": "markdown",
   "metadata": {},
   "source": [
    "### Funcion de Coste y Gradiente"
   ]
  },
  {
   "cell_type": "markdown",
   "metadata": {},
   "source": [
    "\n",
    "El objetivo de la regresión logística es minimizar la función de coste"
   ]
  },
  {
   "attachments": {
    "image.png": {
     "image/png": "[encoded data removed]"
    }
   },
   "cell_type": "markdown",
   "metadata": {},
   "source": [
    "![image.png](attachment:image.png)"
   ]
  },
  {
   "cell_type": "markdown",
   "metadata": {},
   "source": [
    "donde el gradiente de la función de costoe está dado por"
   ]
  },
  {
   "cell_type": "markdown",
   "metadata": {},
   "source": [
    "$$ \\frac{\\partial J(\\theta)}{\\partial \\theta_j} = \\frac{1}{m} \\sum_{i=1}^{m} (h_{\\theta}(x^{(i)}) - y^{(i)})x_j^{(i)}$$"
   ]
  },
  {
   "cell_type": "code",
   "execution_count": 88,
   "metadata": {},
   "outputs": [],
   "source": [
    "# Definimos la funcionCoste\n",
    "def funcionCoste (theta, x, y):  # Tres parámetros: theta, x e y\n",
    "    m = len(y)            # objeto m con la longitud de y\n",
    "    y_pred = funcionSigmoide(np.dot(x , theta))\n",
    "    error = (y * np.log(y_pred)) + ((1 - y) * np.log(1 - y_pred)) \n",
    "    coste = -1 / m * sum(error) # Para calcular el coste se suman todas los errores y se divide por m observaciones\n",
    "    # Se añade un menos al principio para que el coste salga positivo\n",
    "    gradiente = 1 / m * np.dot(x.transpose(), (y_pred - y)) # el gradiente es la derivada del coste en función de \n",
    "    # theta. Lo obtenemos con las transpuesta de x multiplicado por la diferencia de \"y predicha\" menos \"y\" real\n",
    "    \n",
    "    return coste[0] , gradiente"
   ]
  },
  {
   "cell_type": "markdown",
   "metadata": {},
   "source": [
    "### Coste y Gradiente inicial"
   ]
  },
  {
   "cell_type": "code",
   "execution_count": 89,
   "metadata": {},
   "outputs": [
    {
     "name": "stdout",
     "output_type": "stream",
     "text": [
      "Coste de inicializacion 0.693147180559946\n",
      "Gradiente de inicializacion [[-0.1       ]\n",
      " [-0.28122914]\n",
      " [-0.25098615]]\n"
     ]
    }
   ],
   "source": [
    "mean_scoresT = np.mean(scores, axis=0)\n",
    "std_scoresT = np.std(scores, axis=0)\n",
    "scores = (scoresT - mean_scoresT) / std_scoresT #estandarización de los scores\n",
    "\n",
    "rows = scores.shape[0] #numero de rows (filas)\n",
    "cols = scores.shape[1] #numero de cols (columnas)\n",
    "\n",
    "X = np.append(np.ones((rows, 1)), scores, axis=1) \n",
    "y = resultsT.reshape(rows, 1)\n",
    "\n",
    "theta_init = np.zeros((cols + 1, 1))\n",
    "coste, gradiente = funcionCoste(theta_init, X, y)  #coste y gradiente iniciales definido por la X, Y y theta inicial\n",
    "\n",
    "\n",
    "print(\"Coste de inicializacion\", coste)\n",
    "print(\"Gradiente de inicializacion\", gradiente)"
   ]
  },
  {
   "cell_type": "markdown",
   "metadata": {},
   "source": [
    "### Gradiente descendiente"
   ]
  },
  {
   "cell_type": "markdown",
   "metadata": {},
   "source": [
    "Minimizar la función de coste $ J (\\ theta) $ actualizando la siguiente ecuación $\\theta_j := \\theta_j - \\alpha \\frac{\\partial J(\\theta)}{\\partial \\theta_j}$  y repetir hasta la convergencia"
   ]
  },
  {
   "cell_type": "code",
   "execution_count": 90,
   "metadata": {},
   "outputs": [],
   "source": [
    "def descensoGradiente(x, y, theta, alpha, iterations):# definimos funcion de gradiente con cinco parámetros\n",
    "    # alpha es la curva de aprendizaje\n",
    "    costs = []\n",
    "    for i in range(iterations):\n",
    "        coste, gradiente = funcionCoste(theta, x, y) #calcular el coste y el gradietne con la funcionCoste\n",
    "        theta -= (alpha * gradiente) # a theta le vamos restando la multiplicación del gradiente por el alpha\n",
    "        costs.append(coste) # vamos añadiendo al array costes, los resultados de las iteraciones\n",
    "    return theta, costs"
   ]
  },
  {
   "cell_type": "code",
   "execution_count": 94,
   "metadata": {},
   "outputs": [],
   "source": [
    "theta, costs = descensoGradiente(X, y, theta_init, 1, 900)"
   ]
  },
  {
   "cell_type": "code",
   "execution_count": 95,
   "metadata": {},
   "outputs": [
    {
     "name": "stdout",
     "output_type": "stream",
     "text": [
      "Theta después de correr el descenso de gradiente: [[1.71844016]\n",
      " [3.99276769]\n",
      " [3.72511723]]\n",
      "Resutado coste: 0.2034977016012488\n"
     ]
    }
   ],
   "source": [
    "# Mostramos\n",
    "print(\"Theta después de correr el descenso de gradiente:\", theta)\n",
    "print(\"Resutado coste:\", costs[-1])"
   ]
  },
  {
   "cell_type": "markdown",
   "metadata": {},
   "source": [
    "### Graficar la convergencia de J"
   ]
  },
  {
   "cell_type": "markdown",
   "metadata": {},
   "source": [
    "Graficar $ J (\\ theta) $ contra el número de iteraciones de descenso de gradiente:"
   ]
  },
  {
   "cell_type": "code",
   "execution_count": 96,
   "metadata": {},
   "outputs": [
    {
     "data": {
      "image/png": "[encoded data removed]",
      "text/plain": [
       "<Figure size 432x288 with 1 Axes>"
      ]
     },
     "metadata": {
      "needs_background": "light"
     },
     "output_type": "display_data"
    }
   ],
   "source": [
    "plt.plot(costs) # graficamos costes\n",
    "plt.xlabel(\"Iteraciones\") #dependiendo de las iteraciones calculadas\n",
    "plt.ylabel(\"$J(\\Theta)$\")\n",
    "plt.title(\"Valores de la función de coste sobre iteraciones del descenso de gradiente\");"
   ]
  },
  {
   "cell_type": "markdown",
   "metadata": {},
   "source": [
    "### Referencias"
   ]
  },
  {
   "cell_type": "markdown",
   "metadata": {},
   "source": [
    "https://github.com/lmntrixsid/Linear-and-Logistic-Regression-with-NumPy-and-Python/blob/master/Logistic_Regression_Completed.ipynb"
   ]
  }
 ],
 "metadata": {
  "kernelspec": {
   "display_name": "grad_env",
   "language": "python",
   "name": "grad_env"
  },
  "language_info": {
   "codemirror_mode": {
    "name": "ipython",
    "version": 3
   },
   "file_extension": ".py",
   "mimetype": "text/x-python",
   "name": "python",
   "nbconvert_exporter": "python",
   "pygments_lexer": "ipython3",
   "version": "3.5.6"
  }
 },
 "nbformat": 4,
 "nbformat_minor": 4
}
